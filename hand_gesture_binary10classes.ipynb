{
 "cells": [
  {
   "cell_type": "code",
   "execution_count": 1,
   "metadata": {
    "id": "3J3KgYnZ8mpY"
   },
   "outputs": [],
   "source": [
    "import os\n",
    "import pandas as pd\n",
    "import numpy as np\n",
    "import matplotlib.pyplot as plt\n",
    "import tensorflow\n",
    "from tensorflow import keras\n",
    "from tensorflow.keras.models import Sequential\n",
    "from tensorflow.keras.layers import Dense, Conv2D , MaxPool2D , Flatten , Dropout , BatchNormalization\n",
    "from tensorflow.keras.preprocessing.image import ImageDataGenerator\n",
    "from sklearn.model_selection import train_test_split\n",
    "from sklearn.metrics import classification_report,confusion_matrix\n",
    "from tensorflow.keras.callbacks import ReduceLROnPlateau\n",
    "import cv2 as cv\n",
    "import h5py"
   ]
  },
  {
   "cell_type": "markdown",
   "metadata": {
    "id": "X_JPiRl1leMp"
   },
   "source": [
    "# Load Data"
   ]
  },
  {
   "cell_type": "code",
   "execution_count": 2,
   "metadata": {
    "id": "oic1LufileMq"
   },
   "outputs": [],
   "source": [
    "labels = ['call_me','fingers_crossed','up','okay','paper','rock','rock_on','scissor','peace','thumbs']\n",
    "x_signs = []\n",
    "y_signs = []\n",
    "path = \"images\"\n",
    "for i in os.listdir(path):\n",
    "    for j in os.listdir(path + \"/\" + i):\n",
    "        img =  cv.imread(path + \"/\" + i + '/' + j,0)\n",
    "        img =  cv.resize(img,(64,64),interpolation = cv.INTER_AREA)\n",
    "        img = np.array(img)\n",
    "        x_signs.append(img)\n",
    "        y_signs.append(labels.index(i))"
   ]
  },
  {
   "cell_type": "code",
   "execution_count": 3,
   "metadata": {
    "colab": {
     "base_uri": "https://localhost:8080/"
    },
    "id": "PKdjYW1TleMs",
    "outputId": "de587afe-bf20-432b-ec77-55fc702656c8"
   },
   "outputs": [
    {
     "data": {
      "text/plain": [
       "(5244, 64, 64)"
      ]
     },
     "execution_count": 3,
     "metadata": {},
     "output_type": "execute_result"
    }
   ],
   "source": [
    "x = np.array(x_signs)\n",
    "x.shape"
   ]
  },
  {
   "cell_type": "code",
   "execution_count": 4,
   "metadata": {
    "id": "J2-DnbWkleMw"
   },
   "outputs": [],
   "source": [
    "X = np.array(x_signs)\n",
    "Y = np.array(y_signs)\n",
    "from sklearn.model_selection import train_test_split\n",
    "x_train, x_test, y_train, y_test = train_test_split(X, Y, train_size=0.75, random_state = 42)"
   ]
  },
  {
   "cell_type": "code",
   "execution_count": 5,
   "metadata": {
    "colab": {
     "base_uri": "https://localhost:8080/"
    },
    "id": "U3MOdzdRleMw",
    "outputId": "28246226-bd69-49e0-f473-e2a03386e7c9"
   },
   "outputs": [
    {
     "data": {
      "text/plain": [
       "(3933, 64, 64)"
      ]
     },
     "execution_count": 5,
     "metadata": {},
     "output_type": "execute_result"
    }
   ],
   "source": [
    "x_train.shape"
   ]
  },
  {
   "cell_type": "code",
   "execution_count": 6,
   "metadata": {
    "colab": {
     "base_uri": "https://localhost:8080/"
    },
    "id": "vj0FgcM-leMx",
    "outputId": "a03a4392-d27d-4134-ceb3-bb3171c52b2a"
   },
   "outputs": [
    {
     "data": {
      "text/plain": [
       "(3933,)"
      ]
     },
     "execution_count": 6,
     "metadata": {},
     "output_type": "execute_result"
    }
   ],
   "source": [
    "y_train.shape"
   ]
  },
  {
   "cell_type": "code",
   "execution_count": 7,
   "metadata": {
    "colab": {
     "base_uri": "https://localhost:8080/"
    },
    "id": "BeZLtyWaleMy",
    "outputId": "0813bebe-f487-41df-9e97-a219dd0925ce"
   },
   "outputs": [
    {
     "data": {
      "text/plain": [
       "(64, 64)"
      ]
     },
     "execution_count": 7,
     "metadata": {},
     "output_type": "execute_result"
    }
   ],
   "source": [
    "x_train[11].shape"
   ]
  },
  {
   "cell_type": "markdown",
   "metadata": {
    "id": "e3Cq3qySQ52L"
   },
   "source": [
    "# Thresholding"
   ]
  },
  {
   "cell_type": "code",
   "execution_count": 8,
   "metadata": {
    "id": "l4scWTOn9_Au"
   },
   "outputs": [],
   "source": [
    "train_x = []\n",
    "train_y = []\n",
    "for i in range(len(x_train)):\n",
    "    _, bw_image = cv.threshold(x_train[i], 120, 255, cv.THRESH_BINARY)\n",
    "    y = y_train[i]\n",
    "    # orginal image\n",
    "    train_x.append(bw_image)\n",
    "    train_y.append(y)\n",
    "\n",
    "    #rotate 100 degree\n",
    "    train_x.append(cv.flip(bw_image,1))\n",
    "    train_y.append(y)\n",
    "train_x  = np.array(train_x) \n",
    "train_y  = np.array(train_y)"
   ]
  },
  {
   "cell_type": "code",
   "execution_count": 9,
   "metadata": {
    "id": "si6f0n6HRJLm"
   },
   "outputs": [],
   "source": [
    "test_x = []\n",
    "test_y = []\n",
    "for i in range(len(x_test)):\n",
    "    _, bw_image = cv.threshold(x_test[i], 120, 255, cv.THRESH_BINARY)\n",
    "    y = y_test[i]\n",
    "    # orginal image\n",
    "    test_x.append(bw_image)\n",
    "    test_y.append(y)\n",
    "    #rotate 90 degree\n",
    "    test_x.append(cv.flip(bw_image,1))\n",
    "    test_y.append(y)\n",
    "test_x = np.array(test_x) \n",
    "test_y = np.array(test_y) "
   ]
  },
  {
   "cell_type": "markdown",
   "metadata": {
    "id": "921_MvroRUSc"
   },
   "source": [
    "## Label Binarizer"
   ]
  },
  {
   "cell_type": "code",
   "execution_count": 10,
   "metadata": {
    "id": "bwbrS00ZRWm3"
   },
   "outputs": [],
   "source": [
    "from sklearn.preprocessing import LabelBinarizer"
   ]
  },
  {
   "cell_type": "code",
   "execution_count": 11,
   "metadata": {
    "id": "x_4T0xf0Rc1Y"
   },
   "outputs": [],
   "source": [
    "label_binarizer = LabelBinarizer()"
   ]
  },
  {
   "cell_type": "code",
   "execution_count": 12,
   "metadata": {
    "id": "OmHGvmYGRffn"
   },
   "outputs": [],
   "source": [
    "y_train = label_binarizer.fit_transform(train_y)\n",
    "y_test = label_binarizer.fit_transform(test_y)"
   ]
  },
  {
   "cell_type": "code",
   "execution_count": 13,
   "metadata": {
    "colab": {
     "base_uri": "https://localhost:8080/"
    },
    "id": "HM6JaJXpRkB4",
    "outputId": "da3eb2dc-6561-4f87-da19-8839d8e93a41"
   },
   "outputs": [
    {
     "data": {
      "text/plain": [
       "array([[0, 0, 0, 0, 0, 0, 0, 0, 0, 1],\n",
       "       [0, 0, 0, 0, 0, 0, 0, 0, 0, 1],\n",
       "       [0, 1, 0, 0, 0, 0, 0, 0, 0, 0],\n",
       "       [0, 1, 0, 0, 0, 0, 0, 0, 0, 0],\n",
       "       [0, 0, 0, 0, 0, 0, 0, 0, 1, 0],\n",
       "       [0, 0, 0, 0, 0, 0, 0, 0, 1, 0],\n",
       "       [0, 0, 0, 1, 0, 0, 0, 0, 0, 0]])"
      ]
     },
     "execution_count": 13,
     "metadata": {},
     "output_type": "execute_result"
    }
   ],
   "source": [
    "y_train[:7]"
   ]
  },
  {
   "cell_type": "markdown",
   "metadata": {
    "id": "LP9imEBhRtI5"
   },
   "source": [
    "# Normalization"
   ]
  },
  {
   "cell_type": "code",
   "execution_count": 14,
   "metadata": {
    "id": "Zxc2O_RyRuKG"
   },
   "outputs": [],
   "source": [
    "x_train = train_x.reshape(-1,64,64,1)\n",
    "x_test = test_x.reshape(-1,64,64,1)"
   ]
  },
  {
   "cell_type": "code",
   "execution_count": 15,
   "metadata": {
    "colab": {
     "base_uri": "https://localhost:8080/"
    },
    "id": "LYHLqt8xRxKd",
    "outputId": "f71cd1ad-d2f3-4216-b323-dc45b6631f99"
   },
   "outputs": [
    {
     "data": {
      "text/plain": [
       "(7866, 64, 64, 1)"
      ]
     },
     "execution_count": 15,
     "metadata": {},
     "output_type": "execute_result"
    }
   ],
   "source": [
    "x_train.shape"
   ]
  },
  {
   "cell_type": "markdown",
   "metadata": {
    "id": "QLeJlHHQR21c"
   },
   "source": [
    "# Data Augmentations"
   ]
  },
  {
   "cell_type": "code",
   "execution_count": 16,
   "metadata": {
    "id": "4bA8f9pOR33Z"
   },
   "outputs": [],
   "source": [
    "data_generator = ImageDataGenerator(\n",
    "    rotation_range = 0.1,\n",
    "    zoom_range = 0.1,\n",
    "    width_shift_range=0.1,\n",
    "    height_shift_range=0.1\n",
    ")"
   ]
  },
  {
   "cell_type": "code",
   "execution_count": 17,
   "metadata": {
    "id": "jNWkvjQMR6C-"
   },
   "outputs": [],
   "source": [
    "data_generator.fit(x_train)"
   ]
  },
  {
   "cell_type": "markdown",
   "metadata": {
    "id": "j27N1ypoR-IG"
   },
   "source": [
    "# Build Model"
   ]
  },
  {
   "cell_type": "code",
   "execution_count": 18,
   "metadata": {
    "colab": {
     "base_uri": "https://localhost:8080/"
    },
    "id": "AJrPzaSGleM_",
    "outputId": "50871daf-be3b-48a9-f2e3-cea156dc50d4"
   },
   "outputs": [
    {
     "data": {
      "text/plain": [
       "10"
      ]
     },
     "execution_count": 18,
     "metadata": {},
     "output_type": "execute_result"
    }
   ],
   "source": [
    "len(labels)"
   ]
  },
  {
   "cell_type": "code",
   "execution_count": 19,
   "metadata": {
    "id": "kqMUvK4MR9L6"
   },
   "outputs": [],
   "source": [
    "model = Sequential()\n",
    "#first layer\n",
    "model.add(Conv2D(75,(3,3),strides=1,padding='same',activation='relu',input_shape = (64,64,1)))\n",
    "model.add(BatchNormalization())\n",
    "model.add(MaxPool2D((2,2),strides=2, padding='same'))\n",
    "#second layer\n",
    "model.add(Conv2D(50,(3,3),strides=1,padding='same',activation='relu'))\n",
    "model.add(Dropout(0.2))\n",
    "model.add(BatchNormalization())\n",
    "model.add(MaxPool2D((2,2),strides=2, padding='same'))\n",
    "#third layer\n",
    "model.add(Conv2D(25,(3,3),strides=1,padding='same',activation='relu'))\n",
    "model.add(BatchNormalization())\n",
    "model.add(MaxPool2D((2,2),strides=2, padding='same'))\n",
    "#flatten\n",
    "model.add(Flatten())\n",
    "#First fully connected layer\n",
    "model.add(Dense(units=512,activation='relu'))\n",
    "model.add(Dropout(0.3))\n",
    "#Second fully connected layer\n",
    "model.add(Dense(units=10,activation='softmax'))"
   ]
  },
  {
   "cell_type": "markdown",
   "metadata": {
    "id": "LyLoX1ooSGs3"
   },
   "source": [
    "# Compile Model"
   ]
  },
  {
   "cell_type": "code",
   "execution_count": 20,
   "metadata": {},
   "outputs": [],
   "source": [
    "tensorflow.debugging.set_log_device_placement(True)"
   ]
  },
  {
   "cell_type": "code",
   "execution_count": 21,
   "metadata": {
    "id": "jAAKPfISSD6J"
   },
   "outputs": [],
   "source": [
    "model.compile(optimizer='adam',loss = 'categorical_crossentropy', metrics=['accuracy'])"
   ]
  },
  {
   "cell_type": "markdown",
   "metadata": {
    "id": "qJAdOCxaSMz_"
   },
   "source": [
    "# Set learning rate\n"
   ]
  },
  {
   "cell_type": "code",
   "execution_count": 22,
   "metadata": {
    "id": "ufXfhXnOSKDw"
   },
   "outputs": [],
   "source": [
    "learning_rate_reduction = ReduceLROnPlateau(monitor='val_accuracy', factor=0.5,verbose=1,patience=2, min_lr=0.00001)"
   ]
  },
  {
   "cell_type": "markdown",
   "metadata": {
    "id": "pj43PfoqSTOl"
   },
   "source": [
    "# Train the Model"
   ]
  },
  {
   "cell_type": "code",
   "execution_count": 23,
   "metadata": {
    "colab": {
     "base_uri": "https://localhost:8080/"
    },
    "id": "mt6WGbIYSQIp",
    "outputId": "976eed78-d853-46a7-e588-355764b886a4"
   },
   "outputs": [
    {
     "name": "stdout",
     "output_type": "stream",
     "text": [
      "Epoch 1/30\n",
      "62/62 [==============================] - 4s 25ms/step - loss: 1.1630 - accuracy: 0.6468 - val_loss: 3.5966 - val_accuracy: 0.3707\n",
      "Epoch 2/30\n",
      "62/62 [==============================] - 1s 20ms/step - loss: 0.2953 - accuracy: 0.9069 - val_loss: 1.2154 - val_accuracy: 0.6335\n",
      "Epoch 3/30\n",
      "62/62 [==============================] - 1s 21ms/step - loss: 0.1569 - accuracy: 0.9522 - val_loss: 0.0977 - val_accuracy: 0.9653\n",
      "Epoch 4/30\n",
      "62/62 [==============================] - 1s 20ms/step - loss: 0.1205 - accuracy: 0.9647 - val_loss: 0.0532 - val_accuracy: 0.9847\n",
      "Epoch 5/30\n",
      "62/62 [==============================] - 1s 20ms/step - loss: 0.0854 - accuracy: 0.9725 - val_loss: 0.0555 - val_accuracy: 0.9828\n",
      "Epoch 6/30\n",
      "62/62 [==============================] - 1s 21ms/step - loss: 0.0669 - accuracy: 0.9807 - val_loss: 0.0730 - val_accuracy: 0.9752\n",
      "\n",
      "Epoch 00006: ReduceLROnPlateau reducing learning rate to 0.0005000000237487257.\n",
      "Epoch 7/30\n",
      "62/62 [==============================] - 1s 21ms/step - loss: 0.0545 - accuracy: 0.9847 - val_loss: 0.0303 - val_accuracy: 0.9924\n",
      "Epoch 8/30\n",
      "62/62 [==============================] - 1s 21ms/step - loss: 0.0393 - accuracy: 0.9883 - val_loss: 0.0284 - val_accuracy: 0.9912\n",
      "Epoch 9/30\n",
      "62/62 [==============================] - 1s 21ms/step - loss: 0.0376 - accuracy: 0.9882 - val_loss: 0.0396 - val_accuracy: 0.9886\n",
      "\n",
      "Epoch 00009: ReduceLROnPlateau reducing learning rate to 0.0002500000118743628.\n",
      "Epoch 10/30\n",
      "62/62 [==============================] - 1s 21ms/step - loss: 0.0280 - accuracy: 0.9916 - val_loss: 0.0257 - val_accuracy: 0.9935\n",
      "Epoch 11/30\n",
      "62/62 [==============================] - 1s 21ms/step - loss: 0.0260 - accuracy: 0.9925 - val_loss: 0.0284 - val_accuracy: 0.9939\n",
      "Epoch 12/30\n",
      "62/62 [==============================] - 1s 21ms/step - loss: 0.0268 - accuracy: 0.9910 - val_loss: 0.0238 - val_accuracy: 0.9939\n",
      "Epoch 13/30\n",
      "62/62 [==============================] - 1s 21ms/step - loss: 0.0196 - accuracy: 0.9961 - val_loss: 0.0251 - val_accuracy: 0.9935\n",
      "\n",
      "Epoch 00013: ReduceLROnPlateau reducing learning rate to 0.0001250000059371814.\n",
      "Epoch 14/30\n",
      "62/62 [==============================] - 1s 20ms/step - loss: 0.0186 - accuracy: 0.9945 - val_loss: 0.0253 - val_accuracy: 0.9943\n",
      "Epoch 15/30\n",
      "62/62 [==============================] - 1s 21ms/step - loss: 0.0201 - accuracy: 0.9947 - val_loss: 0.0234 - val_accuracy: 0.9943\n",
      "Epoch 16/30\n",
      "62/62 [==============================] - 1s 21ms/step - loss: 0.0178 - accuracy: 0.9949 - val_loss: 0.0227 - val_accuracy: 0.9947\n",
      "Epoch 17/30\n",
      "62/62 [==============================] - 1s 20ms/step - loss: 0.0161 - accuracy: 0.9954 - val_loss: 0.0236 - val_accuracy: 0.9939\n",
      "Epoch 18/30\n",
      "62/62 [==============================] - 1s 21ms/step - loss: 0.0144 - accuracy: 0.9958 - val_loss: 0.0280 - val_accuracy: 0.9924\n",
      "\n",
      "Epoch 00018: ReduceLROnPlateau reducing learning rate to 6.25000029685907e-05.\n",
      "Epoch 19/30\n",
      "62/62 [==============================] - 1s 21ms/step - loss: 0.0157 - accuracy: 0.9953 - val_loss: 0.0240 - val_accuracy: 0.9939\n",
      "Epoch 20/30\n",
      "62/62 [==============================] - 1s 21ms/step - loss: 0.0125 - accuracy: 0.9968 - val_loss: 0.0252 - val_accuracy: 0.9931\n",
      "\n",
      "Epoch 00020: ReduceLROnPlateau reducing learning rate to 3.125000148429535e-05.\n",
      "Epoch 21/30\n",
      "62/62 [==============================] - 1s 21ms/step - loss: 0.0148 - accuracy: 0.9964 - val_loss: 0.0250 - val_accuracy: 0.9924\n",
      "Epoch 22/30\n",
      "62/62 [==============================] - 1s 21ms/step - loss: 0.0127 - accuracy: 0.9963 - val_loss: 0.0262 - val_accuracy: 0.9928\n",
      "\n",
      "Epoch 00022: ReduceLROnPlateau reducing learning rate to 1.5625000742147677e-05.\n",
      "Epoch 23/30\n",
      "62/62 [==============================] - 1s 21ms/step - loss: 0.0153 - accuracy: 0.9963 - val_loss: 0.0253 - val_accuracy: 0.9928\n",
      "Epoch 24/30\n",
      "62/62 [==============================] - 1s 20ms/step - loss: 0.0127 - accuracy: 0.9972 - val_loss: 0.0242 - val_accuracy: 0.9935\n",
      "\n",
      "Epoch 00024: ReduceLROnPlateau reducing learning rate to 1e-05.\n",
      "Epoch 25/30\n",
      "62/62 [==============================] - 1s 21ms/step - loss: 0.0142 - accuracy: 0.9956 - val_loss: 0.0239 - val_accuracy: 0.9935\n",
      "Epoch 26/30\n",
      "62/62 [==============================] - 1s 21ms/step - loss: 0.0132 - accuracy: 0.9966 - val_loss: 0.0245 - val_accuracy: 0.9931\n",
      "Epoch 27/30\n",
      "62/62 [==============================] - 1s 21ms/step - loss: 0.0122 - accuracy: 0.9969 - val_loss: 0.0249 - val_accuracy: 0.9935\n",
      "Epoch 28/30\n",
      "62/62 [==============================] - 1s 21ms/step - loss: 0.0137 - accuracy: 0.9964 - val_loss: 0.0259 - val_accuracy: 0.9931\n",
      "Epoch 29/30\n",
      "62/62 [==============================] - 1s 21ms/step - loss: 0.0134 - accuracy: 0.9963 - val_loss: 0.0253 - val_accuracy: 0.9931\n",
      "Epoch 30/30\n",
      "62/62 [==============================] - 1s 22ms/step - loss: 0.0147 - accuracy: 0.9966 - val_loss: 0.0239 - val_accuracy: 0.9928\n"
     ]
    },
    {
     "data": {
      "text/plain": [
       "<tensorflow.python.keras.callbacks.History at 0x27af48f5220>"
      ]
     },
     "execution_count": 23,
     "metadata": {},
     "output_type": "execute_result"
    }
   ],
   "source": [
    "model.fit(data_generator.flow(x_train,y_train,batch_size = 128),epochs=30,validation_data=(x_test,y_test),callbacks=[learning_rate_reduction])"
   ]
  },
  {
   "cell_type": "code",
   "execution_count": 24,
   "metadata": {
    "colab": {
     "base_uri": "https://localhost:8080/"
    },
    "id": "gEI48SlBSZ6j",
    "outputId": "cc148106-866e-42f7-867c-40e1026dfb4c"
   },
   "outputs": [
    {
     "name": "stdout",
     "output_type": "stream",
     "text": [
      "82/82 [==============================] - 0s 1ms/step - loss: 0.0239 - accuracy: 0.9928\n"
     ]
    },
    {
     "data": {
      "text/plain": [
       "[0.023875663056969643, 0.9927536249160767]"
      ]
     },
     "execution_count": 24,
     "metadata": {},
     "output_type": "execute_result"
    }
   ],
   "source": [
    "model.evaluate(x_test,y_test)"
   ]
  },
  {
   "cell_type": "markdown",
   "metadata": {
    "id": "IBiLklnfSg9G"
   },
   "source": [
    "# Save Model"
   ]
  },
  {
   "cell_type": "code",
   "execution_count": 25,
   "metadata": {
    "id": "eMvOoqQ10vZf"
   },
   "outputs": [],
   "source": [
    "model_json = model.to_json()\n",
    "with open(\"model-bw10.json\", \"w\") as json_file:\n",
    "    json_file.write(model_json)\n",
    "model.save_weights('model-bw10.h5')"
   ]
  },
  {
   "cell_type": "code",
   "execution_count": null,
   "metadata": {},
   "outputs": [],
   "source": []
  }
 ],
 "metadata": {
  "colab": {
   "name": "hand_gesture_binary10classes.ipynb",
   "provenance": []
  },
  "kernelspec": {
   "display_name": "Python 3 (ipykernel)",
   "language": "python",
   "name": "python3"
  },
  "language_info": {
   "codemirror_mode": {
    "name": "ipython",
    "version": 3
   },
   "file_extension": ".py",
   "mimetype": "text/x-python",
   "name": "python",
   "nbconvert_exporter": "python",
   "pygments_lexer": "ipython3",
   "version": "3.9.16"
  }
 },
 "nbformat": 4,
 "nbformat_minor": 1
}
